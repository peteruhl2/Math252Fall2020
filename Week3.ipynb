{
 "cells": [
  {
   "cell_type": "code",
   "execution_count": 1,
   "metadata": {},
   "outputs": [],
   "source": [
    "import matplotlib.pyplot as plt\n",
    "import numpy as np\n",
    "from mpl_toolkits.mplot3d import Axes3D # for 3d stuff\n",
    "%matplotlib qt"
   ]
  },
  {
   "cell_type": "markdown",
   "metadata": {},
   "source": [
    "## Cross Product"
   ]
  },
  {
   "cell_type": "code",
   "execution_count": 2,
   "metadata": {},
   "outputs": [],
   "source": [
    "# EXAMPLE\n",
    "\n",
    "soa = np.array([[0, 0, 1, 1, -2, 0], [0, 0, 2, 1, 1, 0],\n",
    "                [0, 0, 3, 2, 1, 0], [0, 0, 4, 0.5, 0.7, 0]])\n",
    "\n",
    "X, Y, Z, U, V, W = zip(*soa)\n",
    "fig = plt.figure()\n",
    "ax = fig.add_subplot(111, projection='3d')\n",
    "ax.quiver(X, Y, Z, U, V, W)\n",
    "ax.set_xlim([-1, 0.5])\n",
    "ax.set_ylim([-1, 1.5])\n",
    "ax.set_zlim([-1, 8])\n",
    "plt.show()"
   ]
  },
  {
   "cell_type": "markdown",
   "metadata": {},
   "source": [
    "## Problem 12.4.4\n",
    "#### Vectors $ \\bf{a} = \\langle 3,3,-3 \\rangle $ ,  $ \\bf{b} = \\langle 3, -3, 3 \\rangle $,\n",
    "find $ \\bf{a} \\times \\bf{b} $"
   ]
  },
  {
   "cell_type": "code",
   "execution_count": 3,
   "metadata": {},
   "outputs": [
    {
     "data": {
      "text/plain": [
       "(-20.0, 20.0)"
      ]
     },
     "execution_count": 3,
     "metadata": {},
     "output_type": "execute_result"
    }
   ],
   "source": [
    "# Problem 12.4.4\n",
    "\n",
    "a = [3,3,-3]\n",
    "b = [3,-3,3]\n",
    "axb = [0,-18,-18]\n",
    "\n",
    "origin = [0,0,0]\n",
    "X, Y, Z = zip(origin,origin,origin) \n",
    "U, V, W = zip(a,b,axb)\n",
    "\n",
    "fig = plt.figure()\n",
    "ax = fig.add_subplot(111, projection='3d')\n",
    "\n",
    "# dot at the origin\n",
    "ax.scatter(0.0,0.0,0.0, c='g',marker='o',s = 20)\n",
    "\n",
    "ax.quiver(X,Y,Z,U,V,W, arrow_length_ratio=0.1,color = ['b','b','r'])\n",
    "plt.show()\n",
    "ax.set_xlabel('X')\n",
    "ax.set_ylabel('Y')\n",
    "ax.set_zlabel('Z')\n",
    "\n",
    "ax.set_xlim([-20.0, 20.0])\n",
    "ax.set_ylim([-20.0, 20.0])\n",
    "ax.set_zlim([-20.0, 20.0])"
   ]
  },
  {
   "cell_type": "markdown",
   "metadata": {},
   "source": [
    "## Problem 12.5.26\n",
    "#### Plane through $ (2,0,1) $ orthogonal to $ \\langle 3t, 2-t,3 + 4t \\rangle  $"
   ]
  },
  {
   "cell_type": "code",
   "execution_count": 4,
   "metadata": {},
   "outputs": [
    {
     "data": {
      "text/plain": [
       "[<mpl_toolkits.mplot3d.art3d.Line3D at 0x13a1215c5b0>]"
      ]
     },
     "execution_count": 4,
     "metadata": {},
     "output_type": "execute_result"
    }
   ],
   "source": [
    "# get line\n",
    "t = np.linspace(-1,1,20)\n",
    "xx = 3*t\n",
    "yy = 2 - t\n",
    "zz = 3 + 4*t\n",
    "\n",
    "# get normal vector\n",
    "n = [3.,-1.,4.]\n",
    "origin = [0,0,0]\n",
    "\n",
    "X, Y, Z = zip(origin) \n",
    "U, V, W = zip(n)\n",
    "\n",
    "# get surface\n",
    "x = np.linspace(-5,5,20)\n",
    "y = np.linspace(-5,5,20)\n",
    "\n",
    "XX,YY = np.meshgrid(x,y)\n",
    "ZZ = (1/4)*(10.0 - 3.0*XX + YY)\n",
    "\n",
    "\n",
    "# plot =================================================\n",
    "fig = plt.figure()\n",
    "ax = fig.gca(projection='3d')\n",
    "\n",
    "surf = ax.plot_surface(XX, YY, ZZ)\n",
    "\n",
    "# plot n\n",
    "ax.quiver(X,Y,Z,U,V,W, arrow_length_ratio=0.1,color = ['b'])\n",
    "\n",
    "# dot at the origin\n",
    "ax.scatter(0.0,0.0,0.0, c='g',marker='o',s = 20)\n",
    "\n",
    "ax.set_xlabel('X')\n",
    "ax.set_ylabel('Y')\n",
    "ax.set_zlabel('Z')\n",
    "ax.plot(xx,yy,zz)"
   ]
  },
  {
   "cell_type": "markdown",
   "metadata": {},
   "source": [
    "## Problem 12.5.31\n",
    "#### Plane through $P(0,1,1), Q(1,0,1), R(1,1,0) $"
   ]
  },
  {
   "cell_type": "code",
   "execution_count": 5,
   "metadata": {},
   "outputs": [],
   "source": [
    "# get the points\n",
    "P = [0,1,1]\n",
    "Q = [1,0,1]\n",
    "R = [1,1,0]\n",
    "\n",
    "# vectors PQ and PR\n",
    "origin = [0,0,0]\n",
    "PQ = [1,-1,0]\n",
    "PR = [1,0,-1]\n",
    "n = [1,1,1]\n",
    "\n",
    "X, Y, Z = zip(origin,origin,origin) \n",
    "U, V, W = zip(PQ,PR,n)\n",
    "\n",
    "fig = plt.figure()\n",
    "ax = fig.add_subplot(111, projection='3d')\n",
    "\n",
    "# dot at the origin\n",
    "ax.scatter(0.0,0.0,0.0, c='g',marker='o',s = 20)\n",
    "\n",
    "# the three points\n",
    "ax.scatter(P[0],P[1],P[2], c='r',marker='o')\n",
    "ax.scatter(Q[0],Q[1],Q[2], c='b',marker='o')\n",
    "ax.scatter(R[0],R[1],R[2], c='g',marker='o')\n",
    "\n",
    "ax.quiver(X,Y,Z,U,V,W, arrow_length_ratio=0.1,color = ['b','b','r'])\n",
    "plt.show()\n",
    "ax.set_xlabel('X')\n",
    "ax.set_ylabel('Y')\n",
    "ax.set_zlabel('Z')\n",
    "\n",
    "ax.set_xlim([-5.0, 5.0])\n",
    "ax.set_ylim([-5.0, 5.0])\n",
    "ax.set_zlim([-5.0, 5.0])\n",
    "\n",
    "# plot plane x + y + z = 2\n",
    "x = np.linspace(-5,5,20)\n",
    "y = np.linspace(-5,5,20)\n",
    "# z = np.linspace(-5,5,100)\n",
    "\n",
    "X,Y = np.meshgrid(x,y)\n",
    "Z = 2.0 - X - Y\n",
    "\n",
    "surf = ax.plot_surface(X, Y, Z)"
   ]
  },
  {
   "cell_type": "markdown",
   "metadata": {},
   "source": [
    "## Problem 12.5.58\n",
    "#### Intersection of $3x - 2y + z = 1$ and $ 2x + y - 3z = 3$"
   ]
  },
  {
   "cell_type": "code",
   "execution_count": 6,
   "metadata": {},
   "outputs": [
    {
     "data": {
      "text/plain": [
       "[<mpl_toolkits.mplot3d.art3d.Line3D at 0x13a123979d0>]"
      ]
     },
     "execution_count": 6,
     "metadata": {},
     "output_type": "execute_result"
    }
   ],
   "source": [
    "# plot two planes\n",
    "x = np.linspace(-5,5,20)\n",
    "y = np.linspace(-5,5,20)\n",
    "\n",
    "X,Y = np.meshgrid(x,y)\n",
    "Z1 = 1.0 - 3.0*X + 2.0*Y # first plane\n",
    "Z2 = (-1/3)*(3.0 - 2.0*X - Y) # second plane\n",
    "\n",
    "fig = plt.figure()\n",
    "ax = fig.gca(projection='3d')\n",
    "\n",
    "surf = ax.plot_surface(X, Y, Z1)\n",
    "ax.plot_surface(X,Y,Z2)\n",
    "ax.set_xlabel('X')\n",
    "ax.set_ylabel('Y')\n",
    "ax.set_zlabel('Z')\n",
    "\n",
    "# plot line to verify\n",
    "t = np.linspace(-0.6,0.6,100)\n",
    "xx = 1 + 5.0*t\n",
    "yy = 1 + 11.0*t\n",
    "zz = 7*t\n",
    "\n",
    "ax.plot(xx,yy,zz)"
   ]
  },
  {
   "cell_type": "code",
   "execution_count": null,
   "metadata": {},
   "outputs": [],
   "source": []
  }
 ],
 "metadata": {
  "kernelspec": {
   "display_name": "Python 3",
   "language": "python",
   "name": "python3"
  },
  "language_info": {
   "codemirror_mode": {
    "name": "ipython",
    "version": 3
   },
   "file_extension": ".py",
   "mimetype": "text/x-python",
   "name": "python",
   "nbconvert_exporter": "python",
   "pygments_lexer": "ipython3",
   "version": "3.8.3"
  }
 },
 "nbformat": 4,
 "nbformat_minor": 2
}
