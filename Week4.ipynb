{
 "cells": [
  {
   "cell_type": "code",
   "execution_count": 2,
   "metadata": {},
   "outputs": [],
   "source": [
    "import matplotlib.pyplot as plt\n",
    "import numpy as np\n",
    "from mpl_toolkits.mplot3d import Axes3D # for 3d stuff\n",
    "%matplotlib qt"
   ]
  },
  {
   "cell_type": "markdown",
   "metadata": {},
   "source": [
    "## Problem 12.5.26\n",
    "#### Plane through $ (2,0,1) $ orthogonal to $ \\langle 3t, 2-t,3 + 4t \\rangle  $"
   ]
  },
  {
   "cell_type": "code",
   "execution_count": 3,
   "metadata": {},
   "outputs": [
    {
     "data": {
      "text/plain": [
       "[<mpl_toolkits.mplot3d.art3d.Line3D at 0x17eee53aa00>]"
      ]
     },
     "execution_count": 3,
     "metadata": {},
     "output_type": "execute_result"
    }
   ],
   "source": [
    "# get line\n",
    "t = np.linspace(-1,1,20)\n",
    "xx = 3*t\n",
    "yy = 2 - t\n",
    "zz = 3 + 4*t\n",
    "\n",
    "# get normal vector\n",
    "n = [3.,-1.,4.]\n",
    "origin = [0,0,0]\n",
    "\n",
    "X, Y, Z = zip(origin) \n",
    "U, V, W = zip(n)\n",
    "\n",
    "# get surface\n",
    "x = np.linspace(-5,5,20)\n",
    "y = np.linspace(-5,5,20)\n",
    "\n",
    "XX,YY = np.meshgrid(x,y)\n",
    "ZZ = (1/4)*(10.0 - 3.0*XX + YY)\n",
    "\n",
    "\n",
    "# plot =================================================\n",
    "fig = plt.figure()\n",
    "ax = fig.gca(projection='3d')\n",
    "\n",
    "surf = ax.plot_surface(XX, YY, ZZ)\n",
    "\n",
    "# plot n\n",
    "ax.quiver(X,Y,Z,U,V,W, arrow_length_ratio=0.1,color = ['b'])\n",
    "\n",
    "# dot at the origin\n",
    "ax.scatter(0.0,0.0,0.0, c='g',marker='o',s = 20)\n",
    "\n",
    "ax.set_xlabel('X')\n",
    "ax.set_ylabel('Y')\n",
    "ax.set_zlabel('Z')\n",
    "ax.plot(xx,yy,zz)"
   ]
  },
  {
   "cell_type": "markdown",
   "metadata": {},
   "source": [
    "## Problem 12.5.31\n",
    "#### Plane through $P(0,1,1), Q(1,0,1), R(1,1,0) $"
   ]
  },
  {
   "cell_type": "code",
   "execution_count": 29,
   "metadata": {},
   "outputs": [],
   "source": [
    "# get the points\n",
    "P = [0,1,1]\n",
    "Q = [1,0,1]\n",
    "R = [1,1,0]\n",
    "\n",
    "# vectors PQ and PR\n",
    "origin = [0,0,0]\n",
    "PQ = [1,-1,0]\n",
    "PR = [1,0,-1]\n",
    "n = [1,1,1]\n",
    "\n",
    "X, Y, Z = zip(origin,origin,origin) \n",
    "U, V, W = zip(PQ,PR,n)\n",
    "\n",
    "fig = plt.figure()\n",
    "ax = fig.add_subplot(111, projection='3d')\n",
    "\n",
    "# dot at the origin\n",
    "ax.scatter(0.0,0.0,0.0, c='g',marker='o',s = 20)\n",
    "\n",
    "# the three points\n",
    "ax.scatter(P[0],P[1],P[2], c='r',marker='o')\n",
    "ax.scatter(Q[0],Q[1],Q[2], c='b',marker='o')\n",
    "ax.scatter(R[0],R[1],R[2], c='g',marker='o')\n",
    "\n",
    "ax.quiver(X,Y,Z,U,V,W, arrow_length_ratio=0.1,color = ['b','b','r'])\n",
    "plt.show()\n",
    "ax.set_xlabel('X')\n",
    "ax.set_ylabel('Y')\n",
    "ax.set_zlabel('Z')\n",
    "\n",
    "ax.set_xlim([-5.0, 5.0])\n",
    "ax.set_ylim([-5.0, 5.0])\n",
    "ax.set_zlim([-5.0, 5.0])\n",
    "\n",
    "# plot plane x + y + z = 2\n",
    "x = np.linspace(-5,5,20)\n",
    "y = np.linspace(-5,5,20)\n",
    "# z = np.linspace(-5,5,100)\n",
    "\n",
    "X,Y = np.meshgrid(x,y)\n",
    "Z = 2.0 - X - Y\n",
    "\n",
    "surf = ax.plot_surface(X, Y, Z)"
   ]
  },
  {
   "cell_type": "markdown",
   "metadata": {},
   "source": [
    "## Problem 12.5.58\n",
    "#### Intersection of $3x - 2y + z = 1$ and $ 2x + y - 3z = 3$"
   ]
  },
  {
   "cell_type": "code",
   "execution_count": 1,
   "metadata": {},
   "outputs": [
    {
     "ename": "NameError",
     "evalue": "name 'np' is not defined",
     "output_type": "error",
     "traceback": [
      "\u001b[1;31m---------------------------------------------------------------------------\u001b[0m",
      "\u001b[1;31mNameError\u001b[0m                                 Traceback (most recent call last)",
      "\u001b[1;32m<ipython-input-1-0633b54ad583>\u001b[0m in \u001b[0;36m<module>\u001b[1;34m\u001b[0m\n\u001b[0;32m      1\u001b[0m \u001b[1;31m# plot two planes\u001b[0m\u001b[1;33m\u001b[0m\u001b[1;33m\u001b[0m\u001b[1;33m\u001b[0m\u001b[0m\n\u001b[1;32m----> 2\u001b[1;33m \u001b[0mx\u001b[0m \u001b[1;33m=\u001b[0m \u001b[0mnp\u001b[0m\u001b[1;33m.\u001b[0m\u001b[0mlinspace\u001b[0m\u001b[1;33m(\u001b[0m\u001b[1;33m-\u001b[0m\u001b[1;36m5\u001b[0m\u001b[1;33m,\u001b[0m\u001b[1;36m5\u001b[0m\u001b[1;33m,\u001b[0m\u001b[1;36m20\u001b[0m\u001b[1;33m)\u001b[0m\u001b[1;33m\u001b[0m\u001b[1;33m\u001b[0m\u001b[0m\n\u001b[0m\u001b[0;32m      3\u001b[0m \u001b[0my\u001b[0m \u001b[1;33m=\u001b[0m \u001b[0mnp\u001b[0m\u001b[1;33m.\u001b[0m\u001b[0mlinspace\u001b[0m\u001b[1;33m(\u001b[0m\u001b[1;33m-\u001b[0m\u001b[1;36m5\u001b[0m\u001b[1;33m,\u001b[0m\u001b[1;36m5\u001b[0m\u001b[1;33m,\u001b[0m\u001b[1;36m20\u001b[0m\u001b[1;33m)\u001b[0m\u001b[1;33m\u001b[0m\u001b[1;33m\u001b[0m\u001b[0m\n\u001b[0;32m      4\u001b[0m \u001b[1;33m\u001b[0m\u001b[0m\n\u001b[0;32m      5\u001b[0m \u001b[0mX\u001b[0m\u001b[1;33m,\u001b[0m\u001b[0mY\u001b[0m \u001b[1;33m=\u001b[0m \u001b[0mnp\u001b[0m\u001b[1;33m.\u001b[0m\u001b[0mmeshgrid\u001b[0m\u001b[1;33m(\u001b[0m\u001b[0mx\u001b[0m\u001b[1;33m,\u001b[0m\u001b[0my\u001b[0m\u001b[1;33m)\u001b[0m\u001b[1;33m\u001b[0m\u001b[1;33m\u001b[0m\u001b[0m\n",
      "\u001b[1;31mNameError\u001b[0m: name 'np' is not defined"
     ]
    }
   ],
   "source": [
    "# plot two planes\n",
    "x = np.linspace(-5,5,20)\n",
    "y = np.linspace(-5,5,20)\n",
    "\n",
    "X,Y = np.meshgrid(x,y)\n",
    "Z1 = 1.0 - 3.0*X + 2.0*Y # first plane\n",
    "Z2 = (-1/3)*(3.0 - 2.0*X - Y) # second plane\n",
    "\n",
    "fig = plt.figure()\n",
    "ax = fig.gca(projection='3d')\n",
    "\n",
    "surf = ax.plot_surface(X, Y, Z1)\n",
    "ax.plot_surface(X,Y,Z2)\n",
    "ax.set_xlabel('X')\n",
    "ax.set_ylabel('Y')\n",
    "ax.set_zlabel('Z')\n",
    "\n",
    "# plot line to verify\n",
    "t = np.linspace(-0.6,0.6,100)\n",
    "xx = 1 + 5.0*t\n",
    "yy = 1 + 11.0*t\n",
    "zz = 7*t\n",
    "\n",
    "ax.plot(xx,yy,zz)"
   ]
  },
  {
   "cell_type": "code",
   "execution_count": null,
   "metadata": {},
   "outputs": [],
   "source": []
  }
 ],
 "metadata": {
  "kernelspec": {
   "display_name": "Python 3",
   "language": "python",
   "name": "python3"
  },
  "language_info": {
   "codemirror_mode": {
    "name": "ipython",
    "version": 3
   },
   "file_extension": ".py",
   "mimetype": "text/x-python",
   "name": "python",
   "nbconvert_exporter": "python",
   "pygments_lexer": "ipython3",
   "version": "3.8.3"
  }
 },
 "nbformat": 4,
 "nbformat_minor": 2
}
